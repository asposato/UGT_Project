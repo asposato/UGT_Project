{
 "cells": [
  {
   "cell_type": "code",
   "execution_count": 29,
   "metadata": {
    "collapsed": false
   },
   "outputs": [
    {
     "name": "stdout",
     "output_type": "stream",
     "text": [
      "['AT5G65550', 'AT5G54060', 'AT5G49690', 'AT4G09500', 'AT4G14100', 'AT4G15270', 'AT4G27560', 'AT2G15480', 'AT2G15490', 'AT2G16890', 'AT2G22930', 'AT2G29710', 'AT2G29730', 'AT2G29740', 'AT2G29750', 'AT2G31750', 'AT2G31790', 'AT2G36970', 'AT3G21750', 'AT3G21760', 'AT4G01070', 'AT4G36770', 'AT4G15260', 'AT4G15280', 'AT4G15480', 'AT4G15490', 'AT4G15500', 'AT4G15550', 'AT1G07260', 'AT1G07250', 'AT1G07240', 'AT1G50580', 'AT1G51210', 'AT3G46650', 'AT3G46660', 'AT3G46670', 'AT3G46680', 'AT5G03490', 'AT1G22400', 'AT3G53150', 'AT2G36760', 'AT2G36770', 'AT2G36780', 'AT2G36790', 'AT2G36800', 'AT1G64910', 'AT1G64920', 'AT1G10400', 'AT5G38010', 'AT5G38035', 'AT3G50740', 'AT2G43840', 'AT2G43820', 'AT3G02100', 'AT3G55700', 'AT3G55710', 'AT2G28080', 'AT2G18570', 'AT2G18560', 'AT1G30530', 'AT4G34130', 'AT5G17030', 'AT5G17040', 'AT5G17050', 'AT5G59520', 'AT5G59530', 'AT1G73880', 'AT1G05670', 'AT1G05680', 'AT1G78280', 'AT1G24100', 'AT1G01390', 'AT1G01420', 'AT5G26310', 'AT5G05870', 'AT5G05880', 'AT5G05890', 'AT5G05900', 'AT5G53990', 'AT5G54010', 'AT3G16520', 'AT5G05860', 'AT3G22250', 'AT3G21770', 'AT3G21780', 'AT3G21760', 'AT5G66690', 'AT3G07020', 'AT1G43620', 'AT1G22380', 'AT1G22370', 'AT1G22370', 'AT1G22340', 'AT2G23260', 'AT2G23250', 'AT2G23210', 'AT1G06000', 'AT5G12890', 'AT1G05530', 'AT2G30150', 'AT2G30140', 'AT4G27570', 'AT3G53160', 'AT3G46720', 'AT3G46700', 'AT3G46690', 'AT2G22590', 'AT2G26480', 'AT5G14860', 'AT4G34130', 'AT1G22360', 'AT3G21560', 'AT1G05560']\n"
     ]
    }
   ],
   "source": [
    "lst1 = [line.strip() for line in open(\"TAIR_Glycosyltransferase_Family_1.csv\", 'r')]\n",
    "print(lst1) \n",
    "# takes information from TAIR_Glycosyltransferase_Family_1.csv and prints it to lst1. "
   ]
  },
  {
   "cell_type": "code",
   "execution_count": 30,
   "metadata": {
    "collapsed": false
   },
   "outputs": [
    {
     "name": "stdout",
     "output_type": "stream",
     "text": [
      "['AT5G65550.1,,', 'AT5G49690.mRNA1,,', 'AT2G22590.mRNA1,,', 'AT4G27560.1,,', 'AT5G53990.mRNA1,,', 'AT4G27570.1,,', 'AT5G54010.mRNA1,,', 'AT3G29630.mRNA1,,', 'AT1G64910.1,,', 'AT2G22930.1,,', 'AT1G64920.mRNA1,,', 'AT4G09500.1,,', 'AT1G50580.mRNA1,,', 'AT5G54060.1,,', 'AT2G36750.1,,', 'AT3G53150.1,,', 'AT4G34131.mRNA1,,', 'AT2G36770.mRNA1,,', 'AT2G36780.1,,', 'AT3G53160.1,,', 'AT2G36800.1,,', 'AT2G36760.1,,', 'AT2G36790.mRNA1,,', 'AT4G36770.mRNA1,,', 'AT5G12890.1,,', 'AT4G01070.mRNA2,,', 'AT2G29730.1,,', 'AT1G01420.mRNA1,,', 'AT3G50740.mRNA1,,', 'AT5G66690.1,,', 'AT2G18570.1,,', 'AT2G18560.1,,', 'AT2G23250.1,,', 'AT5G26310.1,,', 'AT2G29710.1,,', 'AT1G51210.1,,', 'AT1G73880.mRNA1,,', 'AT5G03490.1,,', 'AT5G17050.1,,', 'AT2G23260.1,,', 'AT1G05560.1,,', 'AT2G31790.mRNA1,,', 'AT1G07250.mRNA1,,', 'AT4G15480.mRNA1,,', 'AT1G05675.1,,', 'AT1G30530.mRNA1,,', 'AT5G05880.1,,', 'AT3G21790.mRNA1,,', 'AT1G05680.mRNA1,,', 'AT2G43840.mRNA2,,', 'AT5G59590.1,,', 'AT3G46680.mRNA1,,', 'AT3G46650.1,,', 'AT3G46690.1,,', 'AT1G10400.1,,', 'AT1G06000.mRNA1,,', 'AT5G59580.mRNA1,,', 'AT4G15500.mRNA1,,', 'AT3G46670.mRNA1,,', 'AT5G17040.1,,', 'AT2G36970.mRNA1,,', 'AT4G15260.1,,', 'AT1G01390.1,,', 'AT1G05530.mRNA1,,', 'AT5G05890.mRNA1,,', 'AT4G15490.1,,', 'AT5G17030.mRNA1,,', 'AT4G15280.1,,', 'AT3G46660.1,,', 'AT3G46720.1,,', 'AT3G46700.1,,', 'AT1G22340.1,,', 'AT3G21780.mRNA1,,', 'AT5G38010.mRNA1,,', 'AT5G05860.mRNA1,,', 'AT5G05870.mRNA1,,', 'AT2G43820.1,,', 'AT1G07260.mRNA1,,', 'AT5G38040.mRNA1,,', 'AT2G29740.mRNA1,,', 'AT2G29750.1,,', 'AT2G31750.1,,', 'AT4G15550.mRNA1,,', 'AT3G21800.1,,', 'AT3G21750.1,,', 'AT5G05900.1,,', 'AT2G30150.1,,', 'AT3G21560.1,,', 'AT3G21760.1,,', 'PHV_1_7903801_7903810,,', 'AT2G26480.mRNA1,,', 'AT1G22380.mRNA1,,', 'AT1G07240.1,,', 'AT1G24100.mRNA1,,', 'AT3G11340.mRNA1,,', 'AT3G55710.1,,', 'AT4G14090.mRNA1,,', 'AT3G55700.1,,', 'AT1G78270.mRNA1,,', 'PHV_2_11961721_11961727,,']\n"
     ]
    }
   ],
   "source": [
    "lst2 = [line.strip() for line in open(\"CoGeBLAST_Glycosyltransferase_Family_1.csv\", 'r')]\n",
    "print(lst2)\n",
    "# takes information from CoGeBLAST_Glycosyltransferase_Family_1.csv and prints it to lst2 "
   ]
  },
  {
   "cell_type": "code",
   "execution_count": 31,
   "metadata": {
    "collapsed": false
   },
   "outputs": [
    {
     "name": "stdout",
     "output_type": "stream",
     "text": [
      "['AT5G65550', 'AT5G49690', 'AT2G22590', 'AT4G27560', 'AT5G53990', 'AT4G27570', 'AT5G54010', 'AT3G29630', 'AT1G64910', 'AT2G22930', 'AT1G64920', 'AT4G09500', 'AT1G50580', 'AT5G54060', 'AT2G36750', 'AT3G53150', 'AT4G34131', 'AT2G36770', 'AT2G36780', 'AT3G53160', 'AT2G36800', 'AT2G36760', 'AT2G36790', 'AT4G36770', 'AT5G12890', 'AT4G01070', 'AT2G29730', 'AT1G01420', 'AT3G50740', 'AT5G66690', 'AT2G18570', 'AT2G18560', 'AT2G23250', 'AT5G26310', 'AT2G29710', 'AT1G51210', 'AT1G73880', 'AT5G03490', 'AT5G17050', 'AT2G23260', 'AT1G05560', 'AT2G31790', 'AT1G07250', 'AT4G15480', 'AT1G05675', 'AT1G30530', 'AT5G05880', 'AT3G21790', 'AT1G05680', 'AT2G43840', 'AT5G59590', 'AT3G46680', 'AT3G46650', 'AT3G46690', 'AT1G10400', 'AT1G06000', 'AT5G59580', 'AT4G15500', 'AT3G46670', 'AT5G17040', 'AT2G36970', 'AT4G15260', 'AT1G01390', 'AT1G05530', 'AT5G05890', 'AT4G15490', 'AT5G17030', 'AT4G15280', 'AT3G46660', 'AT3G46720', 'AT3G46700', 'AT1G22340', 'AT3G21780', 'AT5G38010', 'AT5G05860', 'AT5G05870', 'AT2G43820', 'AT1G07260', 'AT5G38040', 'AT2G29740', 'AT2G29750', 'AT2G31750', 'AT4G15550', 'AT3G21800', 'AT3G21750', 'AT5G05900', 'AT2G30150', 'AT3G21560', 'AT3G21760', 'PHV_1_7903801_7903810', 'AT2G26480', 'AT1G22380', 'AT1G07240', 'AT1G24100', 'AT3G11340', 'AT3G55710', 'AT4G14090', 'AT3G55700', 'AT1G78270', 'PHV_2_11961721_11961727']\n"
     ]
    }
   ],
   "source": [
    "lst2clean = []\n",
    "for n in lst2:\n",
    "    n2 = str(n.rstrip((',')))\n",
    "    n2 = str(n2.rstrip(('1')))\n",
    "    n2 = str(n2.rstrip('mRNA'))\n",
    "    n2 = str(n2.rstrip('mRNA2'))\n",
    "    n2 = str(n2.rstrip('.'))\n",
    "    lst2clean.append(n2)\n",
    "    \n",
    "print(lst2clean)\n",
    "\n",
    "# made a new empty list called \"lst2clean\"\n",
    "# rstrip function is going to take off characters from the right of each item. \n",
    "# removed extra characters so that lst1 and lst2 had exact same format."
   ]
  },
  {
   "cell_type": "code",
   "execution_count": 32,
   "metadata": {
    "collapsed": false
   },
   "outputs": [
    {
     "name": "stdout",
     "output_type": "stream",
     "text": [
      "['AT1G05675', 'AT3G07020', 'AT3G22250', 'AT3G02100', 'AT5G14860', 'AT4G14100', 'AT3G16520', 'AT3G21770', 'AT1G22370', 'AT3G29630', 'AT5G38035', 'AT1G43620', 'AT2G16890', 'AT3G21800', 'AT1G05670', 'AT2G28080', 'AT5G59530', 'AT1G22360', 'AT5G38040', 'AT4G14090', 'AT4G34130', 'AT2G36750', 'AT5G59580', 'AT3G21790', 'AT1G78270', 'AT1G22400', 'AT4G15270', 'AT1G78280', 'AT5G59590', 'AT2G23210', 'AT5G59520', 'AT2G15490', 'PHV_1_7903801_7903810', 'PHV_2_11961721_11961727', 'AT3G11340', 'AT4G34131', 'AT2G15480', 'AT2G30140']\n"
     ]
    }
   ],
   "source": [
    "def diff(lst1, lst2clean):\n",
    "    c = set(lst1).union(set(lst2clean))\n",
    "    d = set(lst1).intersection(set(lst2clean))\n",
    "    return list(c - d)\n",
    "\n",
    "print(diff(lst1, lst2clean))\n",
    "\n",
    "# defined a method \"diff\" \n",
    "# set variables equal to lst1 and lst2clean\n",
    "# prints the items that are not in both lists but are in at least one of them\n"
   ]
  },
  {
   "cell_type": "code",
   "execution_count": 33,
   "metadata": {
    "collapsed": false
   },
   "outputs": [
    {
     "data": {
      "text/plain": [
       "38"
      ]
     },
     "execution_count": 33,
     "metadata": {},
     "output_type": "execute_result"
    }
   ],
   "source": [
    "len(diff(lst1, lst2clean))\n",
    "\n",
    "# determines number of nonmatches "
   ]
  },
  {
   "cell_type": "code",
   "execution_count": 34,
   "metadata": {
    "collapsed": false,
    "scrolled": true
   },
   "outputs": [
    {
     "name": "stdout",
     "output_type": "stream",
     "text": [
      "['AT1G05675', 'AT3G07020', 'AT3G22250', 'AT3G02100', 'AT5G14860', 'AT4G14100', 'AT3G16520', 'AT3G21770', 'AT1G22370', 'AT3G29630', 'AT5G38035', 'AT1G43620', 'AT2G16890', 'AT3G21800', 'AT1G05670', 'AT2G28080', 'AT5G59530', 'AT1G22360', 'AT5G38040', 'AT4G14090', 'AT4G34130', 'AT2G36750', 'AT5G59580', 'AT3G21790', 'AT1G78270', 'AT1G22400', 'AT4G15270', 'AT1G78280', 'AT5G59590', 'AT2G23210', 'AT5G59520', 'AT2G15490', 'PHV_1_7903801_7903810', 'PHV_2_11961721_11961727', 'AT3G11340', 'AT4G34131', 'AT2G15480', 'AT2G30140']\n"
     ]
    }
   ],
   "source": [
    "import csv\n",
    "\n",
    "lst3 = diff(lst1, lst2clean)\n",
    "print(lst3)\n",
    "with open('UGT_Diff.csv','w') as f:\n",
    "    wr = csv.writer(f, delimiter=' ', quoting=csv.QUOTE_ALL)\n",
    "    for val in lst3:\n",
    "        wr.writerow([val])\n",
    "\n",
    "# created new list: lst3 which is the differences between lst1 and lst2clean\n",
    "# you needed to create a blank csv file in Excel. \n",
    "# writes the differences to a csv file called \"UGT_Diff\"\n",
    "    # for loop writes each item into it's own cell in Excel\n",
    "# make sure file is closed and not open in two places when trying to write to UGT_Diff\n"
   ]
  }
 ],
 "metadata": {
  "kernelspec": {
   "display_name": "Python 3",
   "language": "python",
   "name": "python3"
  },
  "language_info": {
   "codemirror_mode": {
    "name": "ipython",
    "version": 3
   },
   "file_extension": ".py",
   "mimetype": "text/x-python",
   "name": "python",
   "nbconvert_exporter": "python",
   "pygments_lexer": "ipython3",
   "version": "3.5.1"
  }
 },
 "nbformat": 4,
 "nbformat_minor": 0
}
